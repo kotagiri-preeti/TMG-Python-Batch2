{
 "cells": [
  {
   "cell_type": "code",
   "execution_count": 2,
   "metadata": {},
   "outputs": [
    {
     "name": "stdout",
     "output_type": "stream",
     "text": [
      "17\n",
      "7\n",
      "60\n",
      "2.4\n",
      "2\n",
      "248832\n",
      "2\n"
     ]
    }
   ],
   "source": [
    "#Arithmetic operators --> +,-,*,/,%(modulus),**(exponent),//(floor division)\n",
    "x = 12\n",
    "y = 5\n",
    "print(x + y)\n",
    "print(x - y)\n",
    "print(x * y)\n",
    "print(x / y)\n",
    "print(x % y)\n",
    "print(x ** y)\n",
    "print(x // y)"
   ]
  },
  {
   "cell_type": "code",
   "execution_count": 4,
   "metadata": {},
   "outputs": [
    {
     "name": "stdout",
     "output_type": "stream",
     "text": [
      "False\n",
      "False\n",
      "True\n",
      "True\n",
      "False\n",
      "True\n"
     ]
    }
   ],
   "source": [
    "#Comparision(relation) operators : <,<=,>,>=,==,!= --> Boolean(True or Flase)\n",
    "x = 12\n",
    "y = 5\n",
    "print(x < y)\n",
    "print(x <= y)\n",
    "print(x > y)\n",
    "print(x >= y)\n",
    "print(x == y)\n",
    "print(x != y)"
   ]
  },
  {
   "cell_type": "code",
   "execution_count": 5,
   "metadata": {},
   "outputs": [
    {
     "name": "stdout",
     "output_type": "stream",
     "text": [
      "Before using assignment operator x is: 100\n",
      "After using assignment operator x is: 150\n"
     ]
    }
   ],
   "source": [
    "#Assignment\n",
    "x = 100\n",
    "print(\"Before using assignment operator x is:\",x)\n",
    "x += 50 # x = x + 50\n",
    "print(\"After using assignment operator x is:\",x)"
   ]
  },
  {
   "cell_type": "code",
   "execution_count": 6,
   "metadata": {},
   "outputs": [
    {
     "name": "stdout",
     "output_type": "stream",
     "text": [
      "Before using assignment operator x is: 100\n",
      "After using assignment operator x is: 150\n"
     ]
    }
   ],
   "source": [
    "x = 100\n",
    "print(\"Before using assignment operator x is:\",x)\n",
    "x = x + 50\n",
    "print(\"After using assignment operator x is:\",x)"
   ]
  },
  {
   "cell_type": "code",
   "execution_count": 7,
   "metadata": {},
   "outputs": [
    {
     "name": "stdout",
     "output_type": "stream",
     "text": [
      "Before using assignment operator x is: 100\n",
      "After using assignment operator x is: 50\n"
     ]
    }
   ],
   "source": [
    "x = 100\n",
    "print(\"Before using assignment operator x is:\",x)\n",
    "x -= 50 # x = x + 50\n",
    "print(\"After using assignment operator x is:\",x)"
   ]
  },
  {
   "cell_type": "code",
   "execution_count": null,
   "metadata": {},
   "outputs": [],
   "source": []
  }
 ],
 "metadata": {
  "kernelspec": {
   "display_name": "Python 3",
   "language": "python",
   "name": "python3"
  },
  "language_info": {
   "codemirror_mode": {
    "name": "ipython",
    "version": 3
   },
   "file_extension": ".py",
   "mimetype": "text/x-python",
   "name": "python",
   "nbconvert_exporter": "python",
   "pygments_lexer": "ipython3",
   "version": "3.7.3"
  }
 },
 "nbformat": 4,
 "nbformat_minor": 2
}
