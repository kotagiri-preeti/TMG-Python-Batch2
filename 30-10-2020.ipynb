{
 "cells": [
  {
   "cell_type": "markdown",
   "metadata": {},
   "source": [
    "### Strings \n",
    "1. use \" \" or ' ' for single line strings.use \"\"\"   \"\"\" or ''' ''' for multi-line string\n",
    "2. strings are immutable\n",
    "3. strings are indexed."
   ]
  },
  {
   "cell_type": "code",
   "execution_count": 3,
   "metadata": {},
   "outputs": [],
   "source": [
    "#string examples\n",
    "email_id = \"preeti12@gmail.com\"\n",
    "name = 'preeti'"
   ]
  },
  {
   "cell_type": "code",
   "execution_count": 4,
   "metadata": {},
   "outputs": [
    {
     "name": "stdout",
     "output_type": "stream",
     "text": [
      "<class 'str'>\n",
      "<class 'str'>\n"
     ]
    }
   ],
   "source": [
    "#checking type of the variable\n",
    "print(type(email_id))\n",
    "print(type(name))"
   ]
  },
  {
   "cell_type": "code",
   "execution_count": 9,
   "metadata": {},
   "outputs": [
    {
     "name": "stdout",
     "output_type": "stream",
     "text": [
      "t\n",
      "th\n",
      "tho\n",
      "python\n",
      "pto\n",
      "nohtyp\n"
     ]
    }
   ],
   "source": [
    "#Slicing ==> [start:stop:step]\n",
    "#Default values start ==> 0,stop ==> length of string,step ==> 1\n",
    "name = \"python\"\n",
    "print(name[2])#Extracting a character\n",
    "#Extracting multiple characters\n",
    "print(name[2:4])\n",
    "print(name[2:5])\n",
    "print(name[::])\n",
    "print(name[0:6:2])\n",
    "#Reversing the string\n",
    "print(name[::-1])"
   ]
  },
  {
   "cell_type": "code",
   "execution_count": 10,
   "metadata": {},
   "outputs": [
    {
     "ename": "TypeError",
     "evalue": "'str' object does not support item assignment",
     "output_type": "error",
     "traceback": [
      "\u001b[1;31m---------------------------------------------------------------------------\u001b[0m",
      "\u001b[1;31mTypeError\u001b[0m                                 Traceback (most recent call last)",
      "\u001b[1;32m<ipython-input-10-ec27d94a818f>\u001b[0m in \u001b[0;36m<module>\u001b[1;34m\u001b[0m\n\u001b[0;32m      1\u001b[0m \u001b[1;31m#strings are immutable\u001b[0m\u001b[1;33m\u001b[0m\u001b[1;33m\u001b[0m\u001b[1;33m\u001b[0m\u001b[0m\n\u001b[0;32m      2\u001b[0m \u001b[0mname\u001b[0m \u001b[1;33m=\u001b[0m \u001b[1;34m\"python\"\u001b[0m\u001b[1;33m\u001b[0m\u001b[1;33m\u001b[0m\u001b[0m\n\u001b[1;32m----> 3\u001b[1;33m \u001b[0mname\u001b[0m\u001b[1;33m[\u001b[0m\u001b[1;36m2\u001b[0m\u001b[1;33m]\u001b[0m \u001b[1;33m=\u001b[0m \u001b[1;34m'z'\u001b[0m\u001b[1;33m\u001b[0m\u001b[1;33m\u001b[0m\u001b[0m\n\u001b[0m\u001b[0;32m      4\u001b[0m \u001b[0mprint\u001b[0m\u001b[1;33m(\u001b[0m\u001b[0mname\u001b[0m\u001b[1;33m)\u001b[0m\u001b[1;33m\u001b[0m\u001b[1;33m\u001b[0m\u001b[0m\n",
      "\u001b[1;31mTypeError\u001b[0m: 'str' object does not support item assignment"
     ]
    }
   ],
   "source": [
    "#strings are immutable\n",
    "name = \"python\"\n",
    "name[2] = 'z'\n",
    "print(name)"
   ]
  },
  {
   "cell_type": "markdown",
   "metadata": {},
   "source": [
    "### String Special Operators:\n"
   ]
  },
  {
   "cell_type": "code",
   "execution_count": 11,
   "metadata": {},
   "outputs": [
    {
     "name": "stdout",
     "output_type": "stream",
     "text": [
      "abcxyz\n"
     ]
    }
   ],
   "source": [
    "# + ==> concatenation\n",
    "str1 = \"abc\"\n",
    "str2 = \"xyz\"\n",
    "print(str1 + str2)"
   ]
  },
  {
   "cell_type": "code",
   "execution_count": 13,
   "metadata": {},
   "outputs": [
    {
     "data": {
      "text/plain": [
       "'abcabcabc'"
      ]
     },
     "execution_count": 13,
     "metadata": {},
     "output_type": "execute_result"
    }
   ],
   "source": [
    "# * ==> Repitition \n",
    "str1 * 3"
   ]
  },
  {
   "cell_type": "code",
   "execution_count": 15,
   "metadata": {},
   "outputs": [
    {
     "name": "stdout",
     "output_type": "stream",
     "text": [
      "True\n",
      "True\n",
      "False\n",
      "False\n",
      "False\n",
      "True\n"
     ]
    }
   ],
   "source": [
    "#Membership operators ==> in,not in\n",
    "str3 = \"python\"\n",
    "print('t' in str3)\n",
    "print('th' in str3)\n",
    "print('t' not in str3)\n",
    "print('th' not in str3)\n",
    "print('TMG' in str3)\n",
    "print('TMG' not in str3)"
   ]
  },
  {
   "cell_type": "markdown",
   "metadata": {},
   "source": [
    "### String Built-in Functions:\n",
    "1. len()\n",
    "2. min()\n",
    "3. max()\n",
    "4. str()"
   ]
  },
  {
   "cell_type": "code",
   "execution_count": 16,
   "metadata": {},
   "outputs": [
    {
     "name": "stdout",
     "output_type": "stream",
     "text": [
      "6\n"
     ]
    }
   ],
   "source": [
    "#len() ==> returns no.of characters in the given string\n",
    "course = \"python\"\n",
    "print(len(course))"
   ]
  },
  {
   "cell_type": "code",
   "execution_count": 18,
   "metadata": {},
   "outputs": [
    {
     "name": "stdout",
     "output_type": "stream",
     "text": [
      "a\n",
      "A\n",
      "1\n"
     ]
    }
   ],
   "source": [
    "#min() ==> returns character which is having min ASCII value\n",
    "#Starting ASCII value of lower case letters ==> 97(a)\n",
    "#Starting ASCII value of upper case letter ==> 65(A)\n",
    "#Starting ASCII value of numbers ==> 48(0)\n",
    "str1 = \"abc\"\n",
    "str2 = \"abcABC\"\n",
    "str3 = \"abc123\"\n",
    "print(min(str1))\n",
    "print(min(str2))\n",
    "print(min(str3))"
   ]
  },
  {
   "cell_type": "code",
   "execution_count": 25,
   "metadata": {},
   "outputs": [
    {
     "name": "stdout",
     "output_type": "stream",
     "text": [
      "d\n",
      "c\n",
      "c\n"
     ]
    }
   ],
   "source": [
    "#max() ==> returns character which is having max ASCII value\n",
    "str1 = \"abcd\"\n",
    "str2 = \"abcABC\"\n",
    "str3 = \"abc123\"\n",
    "print(max(str1))\n",
    "print(max(str2))\n",
    "print(max(str3))"
   ]
  },
  {
   "cell_type": "code",
   "execution_count": 27,
   "metadata": {},
   "outputs": [
    {
     "name": "stdout",
     "output_type": "stream",
     "text": [
      "<class 'int'>\n",
      "<class 'str'> 12\n"
     ]
    }
   ],
   "source": [
    "#str() ==>  Used to convert any data type to string\n",
    "num = 12\n",
    "print(type(num))\n",
    "string_num = str(num)\n",
    "print(type(string_num),string_num)"
   ]
  },
  {
   "cell_type": "code",
   "execution_count": null,
   "metadata": {},
   "outputs": [],
   "source": []
  }
 ],
 "metadata": {
  "kernelspec": {
   "display_name": "Python 3",
   "language": "python",
   "name": "python3"
  },
  "language_info": {
   "codemirror_mode": {
    "name": "ipython",
    "version": 3
   },
   "file_extension": ".py",
   "mimetype": "text/x-python",
   "name": "python",
   "nbconvert_exporter": "python",
   "pygments_lexer": "ipython3",
   "version": "3.7.3"
  }
 },
 "nbformat": 4,
 "nbformat_minor": 2
}
